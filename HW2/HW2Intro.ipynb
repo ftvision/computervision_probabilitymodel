{
 "cells": [
  {
   "cell_type": "markdown",
   "metadata": {},
   "source": [
    "The second homework contains three parts. All the required data and code for this homework can be downloaded from here: [tgz](https://github.com/drew-reisinger/AS.50.375HWFall16/blob/master/HW2.tgz) or [zip](https://github.com/drew-reisinger/AS.50.375HWFall16/blob/master/HW2.zip)\n",
    "\n",
    "1. [Statistical Edge Detection](3b.Statistical Edge Detection.ipynb)\n",
    "2. [Learn a Sparse Code for Natural Images](Sparse.ipynb)"
   ]
  },
  {
   "cell_type": "markdown",
   "metadata": {
    "collapsed": true
   },
   "source": [
    "Note: Part 2 contains some fairly computationally heavy experiments. Please start it early and give your computer enough time to run it.\n",
    "\n",
    "For **part 2** we encourage you to work it as a team with no more than three members. We encourage people with technical background and theoretical background to team up together.\n",
    "\n",
    "If you have difficulty in finding a team, consult the following spreadsheet: [Homework 2 info](https://docs.google.com/spreadsheets/d/1qdSSxT9GbXLfsyuW-Nrw6WCtQhCdEKUUGqAKnqpjksk/edit?usp=sharing).\n"
   ]
  },
  {
   "cell_type": "markdown",
   "metadata": {},
   "source": [
    "Originally by Weichao Qiu, modified by Drew Reisinger (reisinger@cogsci.jhu.edu)"
   ]
  }
 ],
 "metadata": {
  "anaconda-cloud": {},
  "kernelspec": {
   "display_name": "Python 2",
   "language": "python",
   "name": "python2"
  },
  "language_info": {
   "codemirror_mode": {
    "name": "ipython",
    "version": 2
   },
   "file_extension": ".py",
   "mimetype": "text/x-python",
   "name": "python",
   "nbconvert_exporter": "python",
   "pygments_lexer": "ipython2",
   "version": "2.7.11"
  }
 },
 "nbformat": 4,
 "nbformat_minor": 0
}
