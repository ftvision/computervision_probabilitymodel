{
 "cells": [
  {
   "cell_type": "code",
   "execution_count": 1,
   "metadata": {
    "collapsed": false,
    "scrolled": false
   },
   "outputs": [],
   "source": [
    "require \"nn\"\n",
    "require \"optim\""
   ]
  },
  {
   "cell_type": "markdown",
   "metadata": {},
   "source": [
    "## Step 1: Building Architecture"
   ]
  },
  {
   "cell_type": "markdown",
   "metadata": {},
   "source": [
    "**Building Model 1: a two layer convolutional neural network**"
   ]
  },
  {
   "cell_type": "code",
   "execution_count": 2,
   "metadata": {
    "collapsed": false
   },
   "outputs": [],
   "source": [
    "function initialize_model_1()\n",
    "    --container\n",
    "    model = nn.Sequential()\n",
    "    --first layer\n",
    "    ----Convolution\n",
    "    model:add(nn.SpatialConvolutionMM(1, 32, 5, 5))\n",
    "    ----Nonlinearity\n",
    "    model:add(nn.ReLU())\n",
    "    ----Max-pooling\n",
    "    model:add(nn.SpatialMaxPooling(2, 2))\n",
    "    --Second layer\n",
    "    ----Convolution\n",
    "    model:add(nn.SpatialConvolutionMM(32, 64, 5, 5))\n",
    "    ----Nonlinearity\n",
    "    model:add(nn.ReLU())\n",
    "    ----Max-Pooling\n",
    "    model:add(nn.SpatialMaxPooling(2, 2))\n",
    "    ----Reshape Results from the second layer\n",
    "    model:add(nn.Reshape(64 * 5 *5))\n",
    "    --Output layer: linear classification\n",
    "    model:add(nn.Linear(64 * 5 * 5, 10))\n",
    "    \n",
    "    return model\n",
    "end"
   ]
  },
  {
   "cell_type": "markdown",
   "metadata": {},
   "source": [
    "**Building Model 2: a one layer convolutional neural network**"
   ]
  },
  {
   "cell_type": "code",
   "execution_count": 3,
   "metadata": {
    "collapsed": true
   },
   "outputs": [],
   "source": [
    "function initialize_model_2()\n",
    "    --container\n",
    "    model = nn.Sequential()\n",
    "    --first layer\n",
    "    ----Convolution\n",
    "    model:add(nn.SpatialConvolutionMM(1, 32, 5, 5))\n",
    "    ----Nonlinearity\n",
    "    model:add(nn.ReLU())\n",
    "    ----Max-pooling\n",
    "    model:add(nn.SpatialMaxPooling(2, 2))\n",
    "    ----Reshape Results from the second layer\n",
    "    model:add(nn.Reshape(32 * 14 * 14))\n",
    "    --Output layer: linear classification\n",
    "    model:add(nn.Linear(32 * 14 * 14, 10))\n",
    "    \n",
    "    return model\n",
    "end"
   ]
  },
  {
   "cell_type": "markdown",
   "metadata": {},
   "source": [
    "**Building Model 3:only linear classification layer**"
   ]
  },
  {
   "cell_type": "code",
   "execution_count": 4,
   "metadata": {
    "collapsed": true
   },
   "outputs": [],
   "source": [
    "function initialize_model_3()\n",
    "    model = nn.Sequential()\n",
    "    model:add(nn.Reshape(1 * 32 * 32))\n",
    "    model:add(nn.Linear(1 * 32 * 32, 10))\n",
    "    return model\n",
    "end"
   ]
  },
  {
   "cell_type": "markdown",
   "metadata": {},
   "source": [
    "## Step 2: Train the Model"
   ]
  },
  {
   "cell_type": "code",
   "execution_count": 5,
   "metadata": {
    "collapsed": false
   },
   "outputs": [],
   "source": [
    "-- load data\n",
    "require \"batches\"\n",
    "require 'gnuplot'\n",
    "mnistTrain = torch.load(\"./data/trainingData.t7\") \n",
    "mnistTest  = torch.load(\"./data/testData.t7\")"
   ]
  },
  {
   "cell_type": "code",
   "execution_count": 6,
   "metadata": {
    "collapsed": false
   },
   "outputs": [],
   "source": [
    "training_step = 1000\n",
    "train_batch_size = 100\n",
    "test_batch_size  = 1000\n",
    "inspection_step = 50"
   ]
  },
  {
   "cell_type": "code",
   "execution_count": 7,
   "metadata": {
    "collapsed": true
   },
   "outputs": [],
   "source": [
    "testImages, testLabels = mnistTest:getNextBatch(test_batch_size) \n",
    "function getModelAccuracy (data, model) \n",
    "    local preds = model:forward(testImages) \n",
    "    return accuracy(preds, testLabels)\n",
    "end"
   ]
  },
  {
   "cell_type": "code",
   "execution_count": 8,
   "metadata": {
    "collapsed": true
   },
   "outputs": [],
   "source": [
    "function trainModel (data, model, batch_size, learning_rate)\n",
    "    --load image\n",
    "    images, labels = data:getNextBatch(batch_size)\n",
    "    --feedforward\n",
    "    scores = model:forward(images)\n",
    "    --define cross entropy criterion\n",
    "    crit = nn.CrossEntropyCriterion()\n",
    "    --use crit to calculate teh loss function\n",
    "    loss = crit:forward(scores, labels)\n",
    " \n",
    "    --backward\n",
    "    --calculate gradient of loss w.r.t scores\n",
    "    dScores = crit:backward(scores, labels) \n",
    "    --find the rest of the gradients\n",
    "    model:backward(images, dScores) \n",
    "    --update parameters \n",
    "    model:updateParameters(learning_rate)\n",
    "    --zero the gradients\n",
    "    model:zeroGradParameters()\n",
    "    --return model\n",
    "    return model\n",
    "end"
   ]
  },
  {
   "cell_type": "code",
   "execution_count": 9,
   "metadata": {
    "collapsed": true
   },
   "outputs": [],
   "source": [
    "function trainModel_L1 (data, model, batch_size, learning_rate)\n",
    "    --load image\n",
    "    images, labels = data:getNextBatch(batch_size)\n",
    "    --retrieve the model's parameters and gradients\n",
    "    parameters,gradParameters = model:getParameters()\n",
    "    --print('para: '..torch.norm(parameters,1))\n",
    " \n",
    "    --zero the gradients\n",
    "    model:zeroGradParameters()\n",
    "    \n",
    "    --feedforward\n",
    "    scores = model:forward(images)\n",
    "    --define cross entropy criterion\n",
    "    crit = nn.CrossEntropyCriterion()\n",
    "    --use crit to calculate teh loss function\n",
    "    loss = crit:forward(scores, labels)\n",
    "    \n",
    "    --backward\n",
    "    --calculate gradient of loss w.r.t scores\n",
    "    dScores = crit:backward(scores, labels) \n",
    "    --find the rest of the gradients\n",
    "    model:backward(images, dScores) \n",
    "    --update parameters \n",
    "\n",
    "    local feval = function(x)\n",
    "        -- get new parameters\n",
    "        if x ~= parameters then\n",
    "            parameters:copy(x)\n",
    "        end\n",
    "        -- define L1 coef \n",
    "        coefL1 = 1e-3;\n",
    "        local norm,sign= torch.norm,torch.sign\n",
    "        --print('old loss'..loss)\n",
    "        loss = loss + norm(coefL1 * parameters,1)\n",
    "        --print('adjusted loss: '..loss)\n",
    "        gradParameters:add( sign(parameters):mul(coefL1) )\n",
    "        --print('L1 grad: '..norm(gradParameters,1))\n",
    "        return loss, gradParameters\n",
    "    end;\n",
    "    \n",
    "    sgdState = {\n",
    "            learningRate = 0.05,\n",
    "            momentum = 0,\n",
    "            learningRateDecay = 0\n",
    "         }\n",
    "    optim.sgd(feval, parameters, sgdState)\n",
    "   \n",
    "    --return model\n",
    "    return model\n",
    "end"
   ]
  },
  {
   "cell_type": "markdown",
   "metadata": {
    "collapsed": true
   },
   "source": [
    "**Train Model 1: a two layer CNN**"
   ]
  },
  {
   "cell_type": "code",
   "execution_count": 12,
   "metadata": {
    "collapsed": false
   },
   "outputs": [
    {
     "data": {
      "text/plain": [
       "[5%]\t\n",
       "0.785\t\n"
      ]
     },
     "execution_count": 12,
     "metadata": {},
     "output_type": "execute_result"
    },
    {
     "data": {
      "text/plain": [
       "L1 grad: 472.23898055948\t\n"
      ]
     },
     "execution_count": 12,
     "metadata": {},
     "output_type": "execute_result"
    },
    {
     "data": {
      "text/plain": [
       "[10%]\t\n",
       "0.857\t\n"
      ]
     },
     "execution_count": 12,
     "metadata": {},
     "output_type": "execute_result"
    },
    {
     "data": {
      "text/plain": [
       "L1 grad: 606.17457178172\t\n"
      ]
     },
     "execution_count": 12,
     "metadata": {},
     "output_type": "execute_result"
    },
    {
     "data": {
      "text/plain": [
       "[15%]\t\n",
       "0.858\t\n"
      ]
     },
     "execution_count": 12,
     "metadata": {},
     "output_type": "execute_result"
    },
    {
     "data": {
      "text/plain": [
       "L1 grad: 673.37265896262\t\n"
      ]
     },
     "execution_count": 12,
     "metadata": {},
     "output_type": "execute_result"
    },
    {
     "data": {
      "text/plain": [
       "[20%]\t\n",
       "0.895\t\n"
      ]
     },
     "execution_count": 12,
     "metadata": {},
     "output_type": "execute_result"
    },
    {
     "data": {
      "text/plain": [
       "L1 grad: 654.38515500249\t\n"
      ]
     },
     "execution_count": 12,
     "metadata": {},
     "output_type": "execute_result"
    },
    {
     "data": {
      "text/plain": [
       "[25%]\t\n",
       "0.913\t\n",
       "L1 grad: 438.20046078911\t\n"
      ]
     },
     "execution_count": 12,
     "metadata": {},
     "output_type": "execute_result"
    },
    {
     "data": {
      "text/plain": [
       "[30%]\t\n",
       "0.926\t\n"
      ]
     },
     "execution_count": 12,
     "metadata": {},
     "output_type": "execute_result"
    },
    {
     "data": {
      "text/plain": [
       "L1 grad: 319.41686035304\t\n"
      ]
     },
     "execution_count": 12,
     "metadata": {},
     "output_type": "execute_result"
    },
    {
     "data": {
      "text/plain": [
       "[35%]\t\n",
       "0.925\t\n"
      ]
     },
     "execution_count": 12,
     "metadata": {},
     "output_type": "execute_result"
    },
    {
     "data": {
      "text/plain": [
       "L1 grad: 526.2534856516\t\n"
      ]
     },
     "execution_count": 12,
     "metadata": {},
     "output_type": "execute_result"
    },
    {
     "data": {
      "text/plain": [
       "[40%]\t\n",
       "0.923\t\n",
       "L1 grad: 511.25362305205\t\n"
      ]
     },
     "execution_count": 12,
     "metadata": {},
     "output_type": "execute_result"
    },
    {
     "data": {
      "text/plain": [
       "[45%]\t\n",
       "0.935\t\n"
      ]
     },
     "execution_count": 12,
     "metadata": {},
     "output_type": "execute_result"
    },
    {
     "data": {
      "text/plain": [
       "L1 grad: 343.65048716251\t\n"
      ]
     },
     "execution_count": 12,
     "metadata": {},
     "output_type": "execute_result"
    },
    {
     "data": {
      "text/plain": [
       "[50%]\t\n",
       "0.936\t\n"
      ]
     },
     "execution_count": 12,
     "metadata": {},
     "output_type": "execute_result"
    },
    {
     "data": {
      "text/plain": [
       "L1 grad: 232.90540979071\t\n"
      ]
     },
     "execution_count": 12,
     "metadata": {},
     "output_type": "execute_result"
    },
    {
     "data": {
      "text/plain": [
       "[55%]\t"
      ]
     },
     "execution_count": 12,
     "metadata": {},
     "output_type": "execute_result"
    },
    {
     "data": {
      "text/plain": [
       "\n",
       "0.948\t\n"
      ]
     },
     "execution_count": 12,
     "metadata": {},
     "output_type": "execute_result"
    },
    {
     "data": {
      "text/plain": [
       "L1 grad: 347.03354436258\t\n"
      ]
     },
     "execution_count": 12,
     "metadata": {},
     "output_type": "execute_result"
    },
    {
     "data": {
      "text/plain": [
       "[60%]\t\n",
       "0.943\t\n"
      ]
     },
     "execution_count": 12,
     "metadata": {},
     "output_type": "execute_result"
    },
    {
     "data": {
      "text/plain": [
       "L1 grad: 453.71017863283\t\n"
      ]
     },
     "execution_count": 12,
     "metadata": {},
     "output_type": "execute_result"
    },
    {
     "data": {
      "text/plain": [
       "[65%]\t\n",
       "0.946\t\n"
      ]
     },
     "execution_count": 12,
     "metadata": {},
     "output_type": "execute_result"
    },
    {
     "data": {
      "text/plain": [
       "L1 grad: 291.66458050385\t\n"
      ]
     },
     "execution_count": 12,
     "metadata": {},
     "output_type": "execute_result"
    },
    {
     "data": {
      "text/plain": [
       "[70%]\t\n",
       "0.946\t\n"
      ]
     },
     "execution_count": 12,
     "metadata": {},
     "output_type": "execute_result"
    },
    {
     "data": {
      "text/plain": [
       "L1 grad: 424.27079548325\t\n"
      ]
     },
     "execution_count": 12,
     "metadata": {},
     "output_type": "execute_result"
    },
    {
     "data": {
      "text/plain": [
       "[75%]\t\n",
       "0.954\t\n"
      ]
     },
     "execution_count": 12,
     "metadata": {},
     "output_type": "execute_result"
    },
    {
     "data": {
      "text/plain": [
       "L1 grad: 249.58983443451\t\n"
      ]
     },
     "execution_count": 12,
     "metadata": {},
     "output_type": "execute_result"
    },
    {
     "data": {
      "text/plain": [
       "[80%]\t\n",
       "0.956\t\n"
      ]
     },
     "execution_count": 12,
     "metadata": {},
     "output_type": "execute_result"
    },
    {
     "data": {
      "text/plain": [
       "L1 grad: 410.88083801179\t\n"
      ]
     },
     "execution_count": 12,
     "metadata": {},
     "output_type": "execute_result"
    },
    {
     "data": {
      "text/plain": [
       "[85%]\t\n",
       "0.948\t\n"
      ]
     },
     "execution_count": 12,
     "metadata": {},
     "output_type": "execute_result"
    },
    {
     "data": {
      "text/plain": [
       "L1 grad: 343.18768152034\t\n"
      ]
     },
     "execution_count": 12,
     "metadata": {},
     "output_type": "execute_result"
    },
    {
     "data": {
      "text/plain": [
       "[90%]\t\n",
       "0.951\t\n"
      ]
     },
     "execution_count": 12,
     "metadata": {},
     "output_type": "execute_result"
    },
    {
     "data": {
      "text/plain": [
       "L1 grad: 235.6337464715\t\n"
      ]
     },
     "execution_count": 12,
     "metadata": {},
     "output_type": "execute_result"
    },
    {
     "data": {
      "text/plain": [
       "[95%]\t\n",
       "0.958\t\n"
      ]
     },
     "execution_count": 12,
     "metadata": {},
     "output_type": "execute_result"
    },
    {
     "data": {
      "text/plain": [
       "L1 grad: 415.56455486533\t\n"
      ]
     },
     "execution_count": 12,
     "metadata": {},
     "output_type": "execute_result"
    },
    {
     "data": {
      "text/plain": [
       "[100%]\t\n",
       "0.947\t\n"
      ]
     },
     "execution_count": 12,
     "metadata": {},
     "output_type": "execute_result"
    },
    {
     "data": {
      "text/plain": [
       "L1 grad: 461.96493764846\t\n"
      ]
     },
     "execution_count": 12,
     "metadata": {},
     "output_type": "execute_result"
    }
   ],
   "source": [
    "--Test Model 1\n",
    "--::redo::\n",
    "model = initialize_model_1()\n",
    "accuracy_inspection = torch.zeros(training_step / inspection_step)\n",
    "for i = 1,training_step do \n",
    "    model = trainModel_L1(mnistTrain, model, train_batch_size, learning_rate)\n",
    "    if (i % inspection_step == 0) then\n",
    "        accuracy_inspection[i / inspection_step] = getModelAccuracy(mnistTest, model)\n",
    "        print('['..tonumber(i / training_step * 100)..'%]')\n",
    "        --print('['..tonumber(i / training_step * 100)..'%]')\n",
    "        print(accuracy_inspection[i / inspection_step])\n",
    "        parameters,gradParameters = model:getParameters()\n",
    "        print('L1 grad: '..torch.norm(gradParameters,1))\n",
    "        if (accuracy_inspection[i / inspection_step] < 0.13) then\n",
    "            print('Bad Luck, Do it Again')\n",
    "            --goto redo\n",
    "            --break\n",
    "        end\n",
    "        \n",
    "    end\n",
    "end\n",
    "range = torch.range(inspection_step, training_step, inspection_step)\n",
    "trained_model_1 = model\n",
    "trained_model_1_acc = accuracy_inspection\n",
    "torch.save('model1.t7', trained_model_1)\n",
    "torch.save('model1_acc.t7', trained_model_1_acc)"
   ]
  },
  {
   "cell_type": "markdown",
   "metadata": {},
   "source": [
    "**Train Model 1: a one layer CNN**"
   ]
  },
  {
   "cell_type": "code",
   "execution_count": 11,
   "metadata": {
    "collapsed": false
   },
   "outputs": [
    {
     "data": {
      "text/plain": [
       "[5%]\t\n",
       "0.848\t\n"
      ]
     },
     "execution_count": 11,
     "metadata": {},
     "output_type": "execute_result"
    },
    {
     "data": {
      "text/plain": [
       "L1 grad: 470.01260191718\t\n"
      ]
     },
     "execution_count": 11,
     "metadata": {},
     "output_type": "execute_result"
    },
    {
     "data": {
      "text/plain": [
       "[10%]\t\n",
       "0.879\t\n"
      ]
     },
     "execution_count": 11,
     "metadata": {},
     "output_type": "execute_result"
    },
    {
     "data": {
      "text/plain": [
       "L1 grad: 405.80498595691\t\n"
      ]
     },
     "execution_count": 11,
     "metadata": {},
     "output_type": "execute_result"
    },
    {
     "data": {
      "text/plain": [
       "[15%]\t\n",
       "0.882\t\n"
      ]
     },
     "execution_count": 11,
     "metadata": {},
     "output_type": "execute_result"
    },
    {
     "data": {
      "text/plain": [
       "L1 grad: 575.00673092064\t\n"
      ]
     },
     "execution_count": 11,
     "metadata": {},
     "output_type": "execute_result"
    },
    {
     "data": {
      "text/plain": [
       "[20%]\t\n",
       "0.88\t\n"
      ]
     },
     "execution_count": 11,
     "metadata": {},
     "output_type": "execute_result"
    },
    {
     "data": {
      "text/plain": [
       "L1 grad: 455.66200381372\t\n"
      ]
     },
     "execution_count": 11,
     "metadata": {},
     "output_type": "execute_result"
    },
    {
     "data": {
      "text/plain": [
       "[25%]\t\n",
       "0.904\t\n",
       "L1 grad: 404.02482257076\t\n"
      ]
     },
     "execution_count": 11,
     "metadata": {},
     "output_type": "execute_result"
    },
    {
     "data": {
      "text/plain": [
       "[30%]\t\n",
       "0.909\t\n"
      ]
     },
     "execution_count": 11,
     "metadata": {},
     "output_type": "execute_result"
    },
    {
     "data": {
      "text/plain": [
       "L1 grad: 316.85596940531\t\n"
      ]
     },
     "execution_count": 11,
     "metadata": {},
     "output_type": "execute_result"
    },
    {
     "data": {
      "text/plain": [
       "[35%]\t\n",
       "0.908\t\n"
      ]
     },
     "execution_count": 11,
     "metadata": {},
     "output_type": "execute_result"
    },
    {
     "data": {
      "text/plain": [
       "L1 grad: 380.91316877674\t\n"
      ]
     },
     "execution_count": 11,
     "metadata": {},
     "output_type": "execute_result"
    },
    {
     "data": {
      "text/plain": [
       "[40%]\t\n",
       "0.893\t\n"
      ]
     },
     "execution_count": 11,
     "metadata": {},
     "output_type": "execute_result"
    },
    {
     "data": {
      "text/plain": [
       "L1 grad: 618.97467066509\t"
      ]
     },
     "execution_count": 11,
     "metadata": {},
     "output_type": "execute_result"
    },
    {
     "data": {
      "text/plain": [
       "\n"
      ]
     },
     "execution_count": 11,
     "metadata": {},
     "output_type": "execute_result"
    },
    {
     "data": {
      "text/plain": [
       "[45%]\t\n",
       "0.913\t\n"
      ]
     },
     "execution_count": 11,
     "metadata": {},
     "output_type": "execute_result"
    },
    {
     "data": {
      "text/plain": [
       "L1 grad: 305.38550376478\t\n"
      ]
     },
     "execution_count": 11,
     "metadata": {},
     "output_type": "execute_result"
    },
    {
     "data": {
      "text/plain": [
       "[50%]\t\n",
       "0.916\t\n"
      ]
     },
     "execution_count": 11,
     "metadata": {},
     "output_type": "execute_result"
    },
    {
     "data": {
      "text/plain": [
       "L1 grad: 460.83507060605\t\n"
      ]
     },
     "execution_count": 11,
     "metadata": {},
     "output_type": "execute_result"
    },
    {
     "data": {
      "text/plain": [
       "[55%]\t\n",
       "0.933\t\n"
      ]
     },
     "execution_count": 11,
     "metadata": {},
     "output_type": "execute_result"
    },
    {
     "data": {
      "text/plain": [
       "L1 grad: 443.16033089303\t\n"
      ]
     },
     "execution_count": 11,
     "metadata": {},
     "output_type": "execute_result"
    },
    {
     "data": {
      "text/plain": [
       "[60%]\t\n",
       "0.916\t\n",
       "L1 grad: 507.61109531962\t\n"
      ]
     },
     "execution_count": 11,
     "metadata": {},
     "output_type": "execute_result"
    },
    {
     "data": {
      "text/plain": [
       "[65%]\t\n",
       "0.925\t\n"
      ]
     },
     "execution_count": 11,
     "metadata": {},
     "output_type": "execute_result"
    },
    {
     "data": {
      "text/plain": [
       "L1 grad: 308.65747375262\t\n"
      ]
     },
     "execution_count": 11,
     "metadata": {},
     "output_type": "execute_result"
    },
    {
     "data": {
      "text/plain": [
       "[70%]\t\n",
       "0.923\t\n"
      ]
     },
     "execution_count": 11,
     "metadata": {},
     "output_type": "execute_result"
    },
    {
     "data": {
      "text/plain": [
       "L1 grad: 323.68046432541\t\n"
      ]
     },
     "execution_count": 11,
     "metadata": {},
     "output_type": "execute_result"
    },
    {
     "data": {
      "text/plain": [
       "[75%]\t\n",
       "0.929\t\n"
      ]
     },
     "execution_count": 11,
     "metadata": {},
     "output_type": "execute_result"
    },
    {
     "data": {
      "text/plain": [
       "L1 grad: 499.7287328614\t\n"
      ]
     },
     "execution_count": 11,
     "metadata": {},
     "output_type": "execute_result"
    },
    {
     "data": {
      "text/plain": [
       "[80%]\t\n",
       "0.922\t\n"
      ]
     },
     "execution_count": 11,
     "metadata": {},
     "output_type": "execute_result"
    },
    {
     "data": {
      "text/plain": [
       "L1 grad: 454.00027381789\t\n"
      ]
     },
     "execution_count": 11,
     "metadata": {},
     "output_type": "execute_result"
    },
    {
     "data": {
      "text/plain": [
       "[85%]\t\n",
       "0.932\t\n",
       "L1 grad: 370.27450729004\t\n"
      ]
     },
     "execution_count": 11,
     "metadata": {},
     "output_type": "execute_result"
    },
    {
     "data": {
      "text/plain": [
       "[90%]\t\n",
       "0.934\t\n"
      ]
     },
     "execution_count": 11,
     "metadata": {},
     "output_type": "execute_result"
    },
    {
     "data": {
      "text/plain": [
       "L1 grad: 294.25950755272\t\n"
      ]
     },
     "execution_count": 11,
     "metadata": {},
     "output_type": "execute_result"
    },
    {
     "data": {
      "text/plain": [
       "[95%]\t\n",
       "0.934\t\n"
      ]
     },
     "execution_count": 11,
     "metadata": {},
     "output_type": "execute_result"
    },
    {
     "data": {
      "text/plain": [
       "L1 grad: 363.95813796223\t\n"
      ]
     },
     "execution_count": 11,
     "metadata": {},
     "output_type": "execute_result"
    },
    {
     "data": {
      "text/plain": [
       "[100%]\t\n",
       "0.929\t\n"
      ]
     },
     "execution_count": 11,
     "metadata": {},
     "output_type": "execute_result"
    },
    {
     "data": {
      "text/plain": [
       "L1 grad: 492.83908237513\t\n"
      ]
     },
     "execution_count": 11,
     "metadata": {},
     "output_type": "execute_result"
    }
   ],
   "source": [
    "--Test Model 2\n",
    "::redo::\n",
    "model = initialize_model_2()\n",
    "accuracy_inspection = torch.zeros(training_step / inspection_step)\n",
    "for i = 1,training_step do \n",
    "    model = trainModel_L1(mnistTrain, model, train_batch_size, learning_rate)\n",
    "    if (i % inspection_step == 0) then\n",
    "        accuracy_inspection[i / inspection_step] = getModelAccuracy(mnistTest, model)\n",
    "        print('['..tonumber(i / training_step * 100)..'%]')\n",
    "        print(accuracy_inspection[i / inspection_step])\n",
    "        if (accuracy_inspection[i / inspection_step] < 0.12) then\n",
    "            print('Bad Luck, Do it Again')\n",
    "            --goto redo\n",
    "            break\n",
    "        end\n",
    "        parameters,gradParameters = model:getParameters()\n",
    "        print('L1 grad: '..torch.norm(gradParameters,1))\n",
    "    end\n",
    "end\n",
    "range = torch.range(inspection_step, training_step, inspection_step)\n",
    "trained_model_2 = model\n",
    "trained_model_2_acc = accuracy_inspection\n",
    "torch.save('model2.t7', trained_model_2)\n",
    "torch.save('model2_acc.t7', trained_model_2_acc)"
   ]
  },
  {
   "cell_type": "markdown",
   "metadata": {},
   "source": [
    "**Train Model 3: a linear classifier**"
   ]
  },
  {
   "cell_type": "code",
   "execution_count": 10,
   "metadata": {
    "collapsed": false
   },
   "outputs": [
    {
     "data": {
      "text/plain": [
       "[5%]\t\n",
       "0.816\t\n"
      ]
     },
     "execution_count": 10,
     "metadata": {},
     "output_type": "execute_result"
    },
    {
     "data": {
      "text/plain": [
       "[10%]\t\n",
       "0.846\t\n"
      ]
     },
     "execution_count": 10,
     "metadata": {},
     "output_type": "execute_result"
    },
    {
     "data": {
      "text/plain": [
       "[15%]\t\n",
       "0.861\t\n"
      ]
     },
     "execution_count": 10,
     "metadata": {},
     "output_type": "execute_result"
    },
    {
     "data": {
      "text/plain": [
       "[20%]\t\n",
       "0.867\t\n"
      ]
     },
     "execution_count": 10,
     "metadata": {},
     "output_type": "execute_result"
    },
    {
     "data": {
      "text/plain": [
       "[25%]\t\n",
       "0.871\t\n"
      ]
     },
     "execution_count": 10,
     "metadata": {},
     "output_type": "execute_result"
    },
    {
     "data": {
      "text/plain": [
       "[30%]\t\n",
       "0.878\t\n"
      ]
     },
     "execution_count": 10,
     "metadata": {},
     "output_type": "execute_result"
    },
    {
     "data": {
      "text/plain": [
       "[35%]\t\n",
       "0.883\t\n"
      ]
     },
     "execution_count": 10,
     "metadata": {},
     "output_type": "execute_result"
    },
    {
     "data": {
      "text/plain": [
       "[40%]\t\n"
      ]
     },
     "execution_count": 10,
     "metadata": {},
     "output_type": "execute_result"
    },
    {
     "data": {
      "text/plain": [
       "0.884\t\n"
      ]
     },
     "execution_count": 10,
     "metadata": {},
     "output_type": "execute_result"
    },
    {
     "data": {
      "text/plain": [
       "[45%]\t\n",
       "0.88\t\n"
      ]
     },
     "execution_count": 10,
     "metadata": {},
     "output_type": "execute_result"
    },
    {
     "data": {
      "text/plain": [
       "[50%]\t\n",
       "0.882\t\n"
      ]
     },
     "execution_count": 10,
     "metadata": {},
     "output_type": "execute_result"
    },
    {
     "data": {
      "text/plain": [
       "[55%]\t\n",
       "0.886\t\n"
      ]
     },
     "execution_count": 10,
     "metadata": {},
     "output_type": "execute_result"
    },
    {
     "data": {
      "text/plain": [
       "[60%]\t\n",
       "0.885\t\n"
      ]
     },
     "execution_count": 10,
     "metadata": {},
     "output_type": "execute_result"
    },
    {
     "data": {
      "text/plain": [
       "[65%]\t\n",
       "0.885\t\n"
      ]
     },
     "execution_count": 10,
     "metadata": {},
     "output_type": "execute_result"
    },
    {
     "data": {
      "text/plain": [
       "[70%]\t\n",
       "0.893\t\n"
      ]
     },
     "execution_count": 10,
     "metadata": {},
     "output_type": "execute_result"
    },
    {
     "data": {
      "text/plain": [
       "[75%]\t\n",
       "0.887\t\n"
      ]
     },
     "execution_count": 10,
     "metadata": {},
     "output_type": "execute_result"
    },
    {
     "data": {
      "text/plain": [
       "[80%]\t"
      ]
     },
     "execution_count": 10,
     "metadata": {},
     "output_type": "execute_result"
    },
    {
     "data": {
      "text/plain": [
       "\n",
       "0.887\t\n"
      ]
     },
     "execution_count": 10,
     "metadata": {},
     "output_type": "execute_result"
    },
    {
     "data": {
      "text/plain": [
       "[85%]\t\n",
       "0.891\t\n"
      ]
     },
     "execution_count": 10,
     "metadata": {},
     "output_type": "execute_result"
    },
    {
     "data": {
      "text/plain": [
       "[90%]\t\n",
       "0.896\t\n"
      ]
     },
     "execution_count": 10,
     "metadata": {},
     "output_type": "execute_result"
    },
    {
     "data": {
      "text/plain": [
       "[95%]\t\n",
       "0.894\t\n"
      ]
     },
     "execution_count": 10,
     "metadata": {},
     "output_type": "execute_result"
    },
    {
     "data": {
      "text/plain": [
       "[100%]\t\n",
       "0.895\t\n"
      ]
     },
     "execution_count": 10,
     "metadata": {},
     "output_type": "execute_result"
    }
   ],
   "source": [
    "--Test Model 3\n",
    "model = initialize_model_3()\n",
    "accuracy_inspection = torch.zeros(training_step / inspection_step)\n",
    "for i = 1,training_step do \n",
    "    model = trainModel_L1(mnistTrain, model, train_batch_size, learning_rate)\n",
    "    if (i % inspection_step == 0) then\n",
    "        accuracy_inspection[i / inspection_step] = getModelAccuracy(mnistTest, model)\n",
    "        print('['..tonumber(i / training_step * 100)..'%]')\n",
    "        print(accuracy_inspection[i / inspection_step])\n",
    "    end\n",
    "end\n",
    "range = torch.range(inspection_step, training_step, inspection_step)\n",
    "trained_model_3 = model\n",
    "trained_model_3_acc = accuracy_inspection\n",
    "torch.save('model3.t7', trained_model_3)\n",
    "torch.save('model3_acc.t7', trained_model_3_acc)"
   ]
  },
  {
   "cell_type": "code",
   "execution_count": null,
   "metadata": {
    "collapsed": true
   },
   "outputs": [],
   "source": []
  }
 ],
 "metadata": {
  "kernelspec": {
   "display_name": "iTorch",
   "language": "lua",
   "name": "itorch"
  },
  "language_info": {
   "name": "lua",
   "version": "5.1"
  }
 },
 "nbformat": 4,
 "nbformat_minor": 0
}
