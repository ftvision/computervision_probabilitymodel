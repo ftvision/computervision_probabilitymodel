{
 "cells": [
  {
   "cell_type": "code",
   "execution_count": 1,
   "metadata": {
    "collapsed": true
   },
   "outputs": [],
   "source": [
    "require \"nn\"\n",
    "require 'gnuplot'\n",
    "require 'util'\n",
    "training_step = 1000\n",
    "train_batch_size = 100\n",
    "test_batch_size  = 1000\n",
    "inspection_step = 50\n",
    "\n",
    "range = torch.range(inspection_step, training_step, inspection_step)"
   ]
  },
  {
   "cell_type": "code",
   "execution_count": 7,
   "metadata": {
    "collapsed": false
   },
   "outputs": [],
   "source": [
    "--load models\n",
    "--model_1 = torch.load('model1.t7')\n",
    "model_1_acc = torch.load('model1_acc.t7')\n",
    "\n",
    "--model_2 = torch.load('model2.t7')\n",
    "model_2_acc = torch.load('model2_acc.t7')\n",
    "\n",
    "--model_3 = torch.load('model3.t7')\n",
    "model_3_acc = torch.load('model3_acc.t7')"
   ]
  },
  {
   "cell_type": "code",
   "execution_count": 8,
   "metadata": {
    "collapsed": true
   },
   "outputs": [],
   "source": [
    "image_center = torch.load('./data/translations/center.t7')\n",
    "image_left   = torch.load('./data/translations/leftShifts.t7')\n",
    "image_right  = torch.load('./data/translations/rightShifts.t7')"
   ]
  },
  {
   "cell_type": "code",
   "execution_count": 3,
   "metadata": {
    "collapsed": false
   },
   "outputs": [],
   "source": [
    "gnuplot.plot({'TwoLayer',range, model_1_acc,'+-'},\n",
    "    {'OneLayer',range, model_2_acc,'+-'},\n",
    "    {'Linear',range, model_3_acc,'+-'})\n",
    "gnuplot.movelegend('left','top')"
   ]
  },
  {
   "cell_type": "code",
   "execution_count": 15,
   "metadata": {
    "collapsed": false
   },
   "outputs": [],
   "source": [
    "setSize = #image_center\n",
    "N = setSize[1]"
   ]
  },
  {
   "cell_type": "code",
   "execution_count": 4,
   "metadata": {
    "collapsed": false
   },
   "outputs": [],
   "source": [
    "function getScore(model, image)\n",
    "    model:forward(image)\n",
    "    scores = model.output:clone()\n",
    "    return scores\n",
    "end\n",
    "function getDiff(model)\n",
    "    score_center = getScore(model,image_center)\n",
    "    score_all  = {}\n",
    "    diff       = {}\n",
    "    diff_image = {}\n",
    "    invariance = torch.zeros(11)\n",
    "    for i = 1,5 do\n",
    "        score_all[6 - i] = getScore(model,image_left[i])\n",
    "    end\n",
    "    score_all[6] = score_center\n",
    "    for i = 1,5 do\n",
    "        score_all[i + 6] = getScore(model,image_right[i])\n",
    "    end\n",
    "    for i = 1,11 do\n",
    "        invariance[i] = avgDistance(score_all[i], score_center)\n",
    "    end\n",
    "    return invariance\n",
    "    --return score_all, score_center\n",
    "end\n"
   ]
  },
  {
   "cell_type": "code",
   "execution_count": 9,
   "metadata": {
    "collapsed": false
   },
   "outputs": [],
   "source": [
    "invariance_1 = getDiff(model_1)\n",
    "invariance_2 = getDiff(model_2)\n",
    "invariance_3 = getDiff(model_3)\n",
    "gnuplot.plot({'TwoLayer',invariance_1,'+-'},\n",
    "    {'OneLayer', invariance_2,'+-'},\n",
    "    {'Linear', invariance_3,'+-'})\n",
    "\n"
   ]
  },
  {
   "cell_type": "code",
   "execution_count": 10,
   "metadata": {
    "collapsed": false
   },
   "outputs": [],
   "source": [
    "--normalize\n",
    "function normalize(t)\n",
    "    t:cdiv(t:norm(2,1):expandAs(t))\n",
    "    return t\n",
    "end\n",
    "\n",
    "invariance_1 = normalize(invariance_1)\n",
    "invariance_2 = normalize(invariance_2)\n",
    "invariance_3 = normalize(invariance_3)\n",
    "tick = torch.range(1,11,1)\n",
    "gnuplot.plot({'TwoLayer',invariance_1,'+-'},\n",
    "    {'OneLayer', invariance_2,'+-'},\n",
    "    {'Linear', invariance_3,'+-'})\n",
    "gnuplot.axis({1,1,0,1})"
   ]
  },
  {
   "cell_type": "code",
   "execution_count": 27,
   "metadata": {
    "collapsed": false
   },
   "outputs": [
    {
     "data": {
      "text/plain": [
       "\n"
      ]
     },
     "execution_count": 27,
     "metadata": {},
     "output_type": "execute_result"
    }
   ],
   "source": [
    "gnuplot.axis({1,1,0,1})"
   ]
  },
  {
   "cell_type": "code",
   "execution_count": null,
   "metadata": {
    "collapsed": true
   },
   "outputs": [],
   "source": []
  }
 ],
 "metadata": {
  "kernelspec": {
   "display_name": "iTorch",
   "language": "lua",
   "name": "itorch"
  },
  "language_info": {
   "name": "lua",
   "version": "5.1"
  }
 },
 "nbformat": 4,
 "nbformat_minor": 0
}
